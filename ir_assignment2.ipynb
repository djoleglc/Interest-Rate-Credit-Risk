{
 "cells": [
  {
   "cell_type": "code",
   "execution_count": 1,
   "id": "387c017e",
   "metadata": {},
   "outputs": [
    {
     "name": "stdout",
     "output_type": "stream",
     "text": [
      "Prices\n",
      "Port: 254.40929549376068, B1: 92.17562531408444, B2: 129.51367373652306\n",
      "Durations\n",
      "Port: 5.76135022906746, B1: 6.212127379516997, B2: 6.160249135265953\n",
      "Convexity:\n",
      "Port: 41.656558221737576, B1: 41.47227974871966, B2: 44.037437764061245\n",
      "\n"
     ]
    }
   ],
   "source": [
    "#exercise 3\n",
    "import math \n",
    "import matplotlib.pyplot as plt\n",
    "import numpy as np \n",
    "\n",
    "term_structure = {1:6, \n",
    "                  2:5.8, \n",
    "                  3:5.620, \n",
    "                  4: 5.460, \n",
    "                  5:5.330,  \n",
    "                  6: 5.250, \n",
    "                  7:5.200, \n",
    "                  8:5.160, \n",
    "                  9:5.125,\n",
    "                  10: 5.1 }\n",
    "\n",
    "cash_flow = {1:6, \n",
    "             2:8,\n",
    "             3:106, \n",
    "             4: 7 ,\n",
    "             5 : 0 ,\n",
    "             6:102,\n",
    "             7:3,\n",
    "             8: 3,\n",
    "             9: 3,\n",
    "             10: 110 }\n",
    "\n",
    "\n",
    "\n",
    "class CashFlow:\n",
    "    \n",
    "    def __init__(self, term_structure, cashflow):\n",
    "        self.term_structure = term_structure\n",
    "        self.cashflow = cashflow\n",
    "        \n",
    "    def price(self):\n",
    "        cash_flow = self.cashflow\n",
    "        t = self.term_structure\n",
    "        price_bond = 0 \n",
    "        for j in range(1, len(cash_flow)+1):\n",
    "            disc = math.exp(j * -t[j]/100) \n",
    "            price_bond += disc * cash_flow[j]\n",
    "        return price_bond\n",
    "\n",
    "    def duration(self):\n",
    "        duration = 0\n",
    "        price = self.price()\n",
    "        cash_flow = self.cashflow\n",
    "        t = self.term_structure\n",
    "        for j in range(1, len(cash_flow)+1):\n",
    "            disc = math.exp(j* -t[j]/100) \n",
    "            duration += disc * cash_flow[j] * j\n",
    "        duration = duration/price\n",
    "        return duration \n",
    "\n",
    "    def convexity(self):\n",
    "        price = self.price()\n",
    "        cash_flow = self.cashflow\n",
    "        t = self.term_structure\n",
    "        convexity = 0\n",
    "        for j in range(1, len(cash_flow)+1):\n",
    "            disc = math.exp(j * -t[j]/100) \n",
    "            convexity += disc * cash_flow[j] * j**2\n",
    "        convexity = convexity/price\n",
    "        return convexity \n",
    "\n",
    "    \n",
    "    \n",
    "def cash_flow_b(maturity, N, cr):\n",
    "    cr_list = [cr*N for j in range(1,maturity)]\n",
    "    cr_list.append(cr*N + N)\n",
    "    keys = list(range(1,maturity+1))\n",
    "    return dict(zip(keys, cr_list))\n",
    "    \n",
    "\n",
    "    \n",
    "N = 100\n",
    "maturity_b1 = 7\n",
    "cr_b1 = 0.04\n",
    "maturity_b2 = 8\n",
    "cr_b2  = 0.1\n",
    "   \n",
    "\n",
    "cash_flow_b1, cash_flow_b2 = cash_flow_b(maturity_b1, N, cr_b1), cash_flow_b(maturity_b2, N, cr_b2)\n",
    "    \n",
    "Portfolio = CashFlow(term_structure, cash_flow)\n",
    "Bond1 = CashFlow(term_structure, cash_flow_b1)\n",
    "Bond2 = CashFlow(term_structure, cash_flow_b2)\n",
    "\n",
    "price_port = Portfolio.price()\n",
    "price_b1 = Bond1.price()\n",
    "price_b2 = Bond2.price()\n",
    "print(f\"Prices\\nPort: {price_port}, B1: {price_b1}, B2: {price_b2}\")\n",
    "\n",
    "duration_port =  Portfolio.duration()\n",
    "duration_b1 =  Bond1.duration()\n",
    "duration_b2 =  Bond2.duration()\n",
    "print(f\"Durations\\nPort: {duration_port}, B1: {duration_b1}, B2: {duration_b2}\")\n",
    "\n",
    "convexity_port = Portfolio.convexity()\n",
    "convexity_b1 = Bond1.convexity()\n",
    "convexity_b2 = Bond2.convexity()\n",
    "print(f\"Convexity:\\nPort: {convexity_port}, B1: {convexity_b1}, B2: {convexity_b2}\")\n",
    "print(\"\")\n"
   ]
  },
  {
   "cell_type": "code",
   "execution_count": 28,
   "id": "1d248470",
   "metadata": {},
   "outputs": [
    {
     "name": "stdout",
     "output_type": "stream",
     "text": [
      "Shares B1: 0.4424959272685598\n",
      "Shares B2: -2.1547236860862107\n"
     ]
    }
   ],
   "source": [
    "# convexity hedging\n",
    "m = np.array([[ -duration_b1*price_b1, -duration_b2*price_b2 ], \n",
    "              [convexity_b1 *price_b1,  convexity_b2*price_b2]])\n",
    "y = np.array([[duration_port*price_port], [-convexity_port*price_port]])\n",
    "\n",
    "q = np.linalg.inv(m) @ y\n",
    "print(f\"Shares B1: {q[0].item()}\")\n",
    "print(f\"Shares B2: {q[1].item()}\")"
   ]
  },
  {
   "cell_type": "code",
   "execution_count": 30,
   "id": "32e563e6",
   "metadata": {},
   "outputs": [
    {
     "data": {
      "image/png": "[encoded data removed]",
      "text/plain": [
       "<Figure size 432x288 with 1 Axes>"
      ]
     },
     "metadata": {
      "needs_background": "light"
     },
     "output_type": "display_data"
    }
   ],
   "source": [
    "#shift yield curve \n",
    "\n",
    "def shift(t,s):\n",
    "    newval = [j + s  for j in t.values()]\n",
    "    keys = list(t.keys())\n",
    "    return dict(zip(keys, newval))\n",
    "    \n",
    "\n",
    "def value_hedged(cash_flow, cash_flow_b1, cash_flow_b2, term_structure, q):   \n",
    "    price_port = CashFlow(term_structure, cash_flow).price()\n",
    "    price_b1 = CashFlow(term_structure, cash_flow_b1).price()\n",
    "    price_b2 = CashFlow(term_structure, cash_flow_b2).price()\n",
    "    return price_port + q[0]*price_b1 + q[1]*price_b2\n",
    "\n",
    "\n",
    "initial_value = value_hedged(cash_flow, cash_flow_b1, cash_flow_b2, term_structure, q)\n",
    "#the term structure that we have is in percentage \n",
    "s = np.linspace(-0.2,0.2, 30)\n",
    "terms = [shift(term_structure, j*100) for j in s]\n",
    "values = [value_hedged(cash_flow, cash_flow_b1, cash_flow_b2, t, q) for t in terms]\n",
    "\n",
    "\n",
    "plt.plot(s, np.array(values) - initial_value)\n",
    "plt.plot(s, [0 for j in s], color =\"red\",  linestyle = \"dotted\")\n",
    "plt.xlabel(\"Shift\")\n",
    "plt.ylabel(\"Value Change\")\n",
    "plt.title(\"Hedged Portfolio Value Change\")\n",
    "plt.show()\n",
    "\n"
   ]
  }
 ],
 "metadata": {
  "kernelspec": {
   "display_name": "Python 3 (ipykernel)",
   "language": "python",
   "name": "python3"
  },
  "language_info": {
   "codemirror_mode": {
    "name": "ipython",
    "version": 3
   },
   "file_extension": ".py",
   "mimetype": "text/x-python",
   "name": "python",
   "nbconvert_exporter": "python",
   "pygments_lexer": "ipython3",
   "version": "3.9.7"
  }
 },
 "nbformat": 4,
 "nbformat_minor": 5
}
